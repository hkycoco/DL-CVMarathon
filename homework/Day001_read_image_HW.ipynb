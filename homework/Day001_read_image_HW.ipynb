{
 "cells": [
  {
   "cell_type": "markdown",
   "metadata": {},
   "source": [
    "# 作業\n",
    "\n",
    "思考一下我們前面有提到圖片是矩陣，但維度可能會不一樣\n",
    "例如灰階圖只有兩個維度，RGB 彩圖則有 3 個維度\n",
    "\n",
    "假如今天我們把 RGB 3 個維度拆開來看會有甚麼不同的效果呢？"
   ]
  },
  {
   "cell_type": "code",
   "execution_count": 14,
   "metadata": {},
   "outputs": [],
   "source": [
    "import cv2\n",
    "import numpy as np\n",
    "\n",
    "#圖片位置\n",
    "img_path = './data/lena.png'\n",
    "#載入圖片格式\n",
    "img  = cv2.imread(img_path, cv2.IMREAD_COLOR) #彩色 RGB\n",
    "img_T = np.hstack((img[...,0], img[...,1], img[...,2]))#分開\n",
    "\n",
    "while True:\n",
    "    #開啟視窗顯示 GRB & GRAY 兩種格式圖片\n",
    "    cv2.imshow('Color1',img)\n",
    "    cv2.imshow('Color2',img_T)\n",
    "    \n",
    "    k = cv2.waitKey(0)\n",
    "    if k ==27: #按\"ESC\"(ASCII) 關閉視窗\n",
    "        cv2.destroyAllWindows()\n",
    "        break"
   ]
  }
 ],
 "metadata": {
  "kernelspec": {
   "display_name": "Python 3",
   "language": "python",
   "name": "python3"
  },
  "language_info": {
   "codemirror_mode": {
    "name": "ipython",
    "version": 3
   },
   "file_extension": ".py",
   "mimetype": "text/x-python",
   "name": "python",
   "nbconvert_exporter": "python",
   "pygments_lexer": "ipython3",
   "version": "3.8.3"
  }
 },
 "nbformat": 4,
 "nbformat_minor": 2
}
